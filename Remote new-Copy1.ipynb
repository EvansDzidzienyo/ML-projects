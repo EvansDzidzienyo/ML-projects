{
 "cells": [
  {
   "cell_type": "markdown",
   "id": "c4aeb3c3-4568-4bbd-9acf-bbd89e779b67",
   "metadata": {},
   "source": [
    "The Remote Work Challenge\n",
    "\n",
    "As Crescent Corp shifted to remote work, HR noticed rising reports of stress, burnout, and social isolation. To address this, they collected data from 5,000 employees worldwide, capturing information on job roles, stress levels, and work setups (remote, hybrid, onsite). With this data, Crescent Corp partnered with a data science team to build a predictive model to identify employees at risk of mental health challenges. This model will allow HR to proactively provide targeted support, ensuring that employees thrive in the remote work environment and maintain productivity.\n",
    "\n",
    "\n",
    "\n",
    "The Problem: Rising mental health challenges among employees working remotely.\n",
    "The Goal: Build a predictive model that identifies potential mental health issues to help HR provide targeted support.\n",
    "The Impact: Using insights from the model to improve well-being and productivity among remote and hybrid teams."
   ]
  },
  {
   "cell_type": "code",
   "execution_count": 2,
   "id": "c1f3356e-603f-44b4-8352-5d1bf0704d54",
   "metadata": {},
   "outputs": [],
   "source": [
    "import pandas as pd\n",
    "import numpy as np\n",
    "from sklearn.model_selection import train_test_split\n",
    "from sklearn.preprocessing import LabelEncoder, StandardScaler\n",
    "from sklearn.ensemble import RandomForestClassifier\n",
    "from sklearn.linear_model import LogisticRegression\n",
    "from sklearn.metrics import accuracy_score, classification_report, f1_score\n",
    "from sklearn.metrics import classification_report, accuracy_score, confusion_matrix\n",
    "import pickle\n"
   ]
  },
  {
   "cell_type": "code",
   "execution_count": 3,
   "id": "b547eeef-b22d-4104-a9bd-05bed48f2bdc",
   "metadata": {},
   "outputs": [],
   "source": [
    "# Loading the data\n",
    "data = pd.read_csv('Remote.csv')"
   ]
  },
  {
   "cell_type": "code",
   "execution_count": null,
   "id": "d918774f-1b7f-47e9-9381-862697ca0d49",
   "metadata": {},
   "outputs": [],
   "source": [
    "data.head()"
   ]
  },
  {
   "cell_type": "code",
   "execution_count": null,
   "id": "5ad2a8e6-ffb9-4ffb-859a-2f09492c63fe",
   "metadata": {},
   "outputs": [],
   "source": [
    "data.info()"
   ]
  },
  {
   "cell_type": "code",
   "execution_count": 6,
   "id": "9b7419d9-ecb6-4060-bebf-cb47b4b23484",
   "metadata": {},
   "outputs": [],
   "source": [
    "# Encode categorical columns using Label Encoding \n",
    "label_encoders = {}\n",
    "for column in ['Age', 'access_to_Mental_Health_Resource']:\n",
    "    le = LabelEncoder()\n",
    "    data[column] = le.fit_transform(data[column])\n",
    "    label_encoders[column] = le\n",
    "\n",
    "# Encoding target variable (Mental_Health_Condition)\n",
    "target_encoder = LabelEncoder()\n",
    "data['Mental_Health_Condition'] = target_encoder.fit_transform(data['Mental_Health_Condition'])"
   ]
  },
  {
   "cell_type": "code",
   "execution_count": 8,
   "id": "6f88dcd5-1144-47db-8538-47326eb096e5",
   "metadata": {},
   "outputs": [],
   "source": [
    "from sklearn.preprocessing import OrdinalEncoder\n",
    "categories = [\n",
    "    ['Poor', 'Average', 'Good'],      \n",
    "    ['Low', 'Medium', 'High'],          \n",
    "    ['Not At All', 'Weekly', 'Daily']   \n",
    "]\n",
    "\n",
    "encoder = OrdinalEncoder(categories=categories)\n",
    "data[['sleep_Quality', 'stress_Level', 'physical_Activity']] = encoder.fit_transform(\n",
    "    data[['sleep_Quality', 'stress_Level', 'physical_Activity']]\n",
    ")"
   ]
  },
  {
   "cell_type": "code",
   "execution_count": 10,
   "id": "7882f9b1-26ac-41b0-b655-00069453972b",
   "metadata": {},
   "outputs": [],
   "source": [
    "from sklearn.preprocessing import OneHotEncoder\n",
    "\n",
    "# Defined the nominal columns for one-hot encoding\n",
    "nominal_columns = ['gender', 'industry', 'Location','region']\n",
    "onehot_encoder = OneHotEncoder(sparse_output=False, drop='first') \n",
    "\n",
    "onehot_encoded = onehot_encoder.fit_transform(data[nominal_columns])\n",
    "onehot_encoded_df = pd.DataFrame(onehot_encoded, columns=onehot_encoder.get_feature_names_out(nominal_columns))\n",
    "\n",
    "# Concatenated the original DataFrame with the one-hot encoded DataFrame\n",
    "data = data.drop(nominal_columns, axis=1) \n",
    "data = pd.concat([data, onehot_encoded_df], axis=1)"
   ]
  },
  {
   "cell_type": "code",
   "execution_count": 12,
   "id": "2aa51b5e-b5ce-466f-98aa-86bcd067335e",
   "metadata": {},
   "outputs": [],
   "source": [
    "#Splitting the dataset\n",
    "from sklearn.model_selection import train_test_split\n",
    "\n",
    "X = data.drop(columns=['Mental_Health_Condition'])  \n",
    "y = data['Mental_Health_Condition']\n",
    "\n",
    "X_train, X_test, y_train, y_test = train_test_split(X, y, test_size=0.2, random_state=42, stratify=y)"
   ]
  },
  {
   "cell_type": "markdown",
   "id": "6129b17a-750c-4797-a4f7-b8898ed9d4b7",
   "metadata": {},
   "source": [
    "## LOGISTIC"
   ]
  },
  {
   "cell_type": "code",
   "execution_count": 14,
   "id": "7ec1d065-efb2-40b3-ab0e-a36a2404148e",
   "metadata": {},
   "outputs": [
    {
     "name": "stdout",
     "output_type": "stream",
     "text": [
      "Accuracy: 0.761\n"
     ]
    }
   ],
   "source": [
    "# Initialize and train the logistic regression model\n",
    "model = LogisticRegression(solver='lbfgs', max_iter=2000)\n",
    "model.fit(X_train, y_train)\n",
    "\n",
    "# Predict on the test set\n",
    "y_pred = model.predict(X_test)\n",
    "y_pred = model.predict(X_test)\n",
    "\n",
    "# Evaluate the model\n",
    "print(\"Accuracy:\", accuracy_score(y_test, y_pred))\n",
    "\n",
    "# Get target names from the label encoder classes\n",
    "target_names = label_encoder.classes_ if 'label_encoder' in locals() else ['Class1', 'Class2', 'Class3']  # Replace with actual class names if needed"
   ]
  },
  {
   "cell_type": "code",
   "execution_count": null,
   "id": "19843b1e-effb-4f1c-b95a-e416ae2cff95",
   "metadata": {},
   "outputs": [],
   "source": [
    "y_train_pred = model.predict(X_train)\n",
    "y_test_pred = model.predict(X_test)\n",
    "\n",
    "f1_train = f1_score(y_train, y_train_pred)\n",
    "f1_test = f1_score(y_test, y_test_pred)\n",
    "\n",
    "train_accuracy = accuracy_score(y_train, y_train_pred)\n",
    "test_accuracy = accuracy_score(y_test, y_test_pred)\n",
    "\n",
    "print(\"Train Accuracy Score:\", train_accuracy)\n",
    "print(\"Test Accuracy Score:\", test_accuracy)\n",
    "print(\"Train F1 Score:\", f1_train)\n",
    "print(\"Test F1 Score:\", f1_test)"
   ]
  },
  {
   "cell_type": "markdown",
   "id": "722758e0-71f2-45a6-8989-8a87bbda9472",
   "metadata": {},
   "source": [
    "## RANDOM FOREST"
   ]
  },
  {
   "cell_type": "code",
   "execution_count": null,
   "id": "c5c29c83-004f-428e-b55b-71602586c97d",
   "metadata": {},
   "outputs": [],
   "source": [
    "from sklearn.ensemble import RandomForestClassifier\n",
    "\n",
    "rf_model = RandomForestClassifier(class_weight='balanced', random_state=42)\n",
    "rf_model.fit(X_train, y_train)\n",
    "y_pred_rf = rf_model.predict(X_test)"
   ]
  },
  {
   "cell_type": "code",
   "execution_count": null,
   "id": "3ccd0096-e4a1-47bb-a513-fb9c7da88446",
   "metadata": {},
   "outputs": [],
   "source": [
    "y_train_pred = rf_model.predict(X_train)\n",
    "y_test_pred = rf_model.predict(X_test)\n",
    "\n",
    "f1_train = f1_score(y_train, y_train_pred)\n",
    "f1_test = f1_score(y_test, y_test_pred)\n",
    "\n",
    "train_accuracy = accuracy_score(y_train, y_train_pred)\n",
    "test_accuracy = accuracy_score(y_test, y_test_pred)\n",
    "\n",
    "print(\"Train Accuracy Score:\", train_accuracy)\n",
    "print(\"Test Accuracy Score:\", test_accuracy)\n",
    "print(\"Train F1 Score:\", f1_train)\n",
    "print(\"Test F1 Score:\", f1_test)"
   ]
  },
  {
   "cell_type": "markdown",
   "id": "a6c01cb8-88ef-4ae5-8777-856ba206de45",
   "metadata": {},
   "source": [
    "## KNN"
   ]
  },
  {
   "cell_type": "code",
   "execution_count": 77,
   "id": "143b8174-7cfd-4b77-8daa-9b84aad25fce",
   "metadata": {},
   "outputs": [],
   "source": [
    "from sklearn.neighbors import KNeighborsClassifier\n",
    "from sklearn.preprocessing import StandardScaler\n",
    "from sklearn.metrics import classification_report, accuracy_score\n",
    "\n",
    "# Initialize the KNN classifier (you can tune n_neighbors)\n",
    "knn = KNeighborsClassifier(n_neighbors=4)\n",
    "\n",
    "# Train the model\n",
    "knn.fit(X_train, y_train)\n",
    "\n",
    "# Predict on test data\n",
    "y_pred = knn.predict(X_test)"
   ]
  },
  {
   "cell_type": "code",
   "execution_count": null,
   "id": "6a2a153a-59df-4b3d-bfb8-46ed7e82b4ae",
   "metadata": {},
   "outputs": [],
   "source": [
    "y_train_pred = knn.predict(X_train)\n",
    "y_test_pred = knn.predict(X_test)\n",
    "\n",
    "f1_train = f1_score(y_train, y_train_pred)\n",
    "f1_test = f1_score(y_test, y_test_pred)\n",
    "\n",
    "train_accuracy = accuracy_score(y_train, y_train_pred)\n",
    "test_accuracy = accuracy_score(y_test, y_test_pred)\n",
    "\n",
    "print(\"Train Accuracy Score:\", train_accuracy)\n",
    "print(\"Test Accuracy Score:\", test_accuracy)\n",
    "print(\"Train F1 Score:\", f1_train)\n",
    "print(\"Test F1 Score:\", f1_test)"
   ]
  },
  {
   "cell_type": "markdown",
   "id": "3b0364df-36c4-49cf-8c8c-6169bab230f4",
   "metadata": {},
   "source": [
    "## DECISION TREE"
   ]
  },
  {
   "cell_type": "code",
   "execution_count": null,
   "id": "5ec9c070-52e3-43a3-ad76-859640ce0c9a",
   "metadata": {},
   "outputs": [],
   "source": [
    "y_train_pred = dtree.predict(X_train)\n",
    "y_test_pred = dtree.predict(X_test)\n",
    "\n",
    "f1_train = f1_score(y_train, y_train_pred)\n",
    "f1_test = f1_score(y_test, y_test_pred)\n",
    "\n",
    "train_accuracy = accuracy_score(y_train, y_train_pred)\n",
    "test_accuracy = accuracy_score(y_test, y_test_pred)\n",
    "\n",
    "print(\"Train Accuracy Score:\", train_accuracy)\n",
    "print(\"Test Accuracy Score:\", test_accuracy)\n",
    "print(\"Train F1 Score:\", f1_train)\n",
    "print(\"Test F1 Score:\", f1_test)"
   ]
  },
  {
   "cell_type": "markdown",
   "id": "dc11b715-c6fb-4020-a374-8ca31ac8eb8d",
   "metadata": {},
   "source": [
    "# SVC"
   ]
  },
  {
   "cell_type": "code",
   "execution_count": 85,
   "id": "f35b63dc-16cc-4e3b-abbc-83e41b198639",
   "metadata": {},
   "outputs": [],
   "source": [
    "from sklearn.svm import LinearSVC\n",
    "from sklearn.svm import SVC"
   ]
  },
  {
   "cell_type": "code",
   "execution_count": null,
   "id": "8d909b3f-1c07-464b-9646-b13aaf86b50b",
   "metadata": {},
   "outputs": [],
   "source": [
    "svc_model = SVC(kernel='rbf', C=1.0, gamma='scale', random_state=42)\n",
    "svc_model.fit(X_train, y_train)"
   ]
  },
  {
   "cell_type": "code",
   "execution_count": null,
   "id": "66d98dc1-4d2f-4505-bae7-6dca369305cb",
   "metadata": {},
   "outputs": [],
   "source": [
    "y_train_pred = svc_model.predict(X_train)\n",
    "y_test_pred1 = svc_model.predict(X_test)\n",
    "\n",
    "f1_train = f1_score(y_train, y_train_pred)\n",
    "f1_test = f1_score(y_test, y_test_pred)\n",
    "\n",
    "print(\"Train Accuracy Score:\", train_accuracy)\n",
    "print(\"Test Accuracy Score:\", test_accuracy)\n",
    "print(\"Train F1 Score:\", f1_train)\n",
    "print(\"Test F1 Score:\", f1_test)"
   ]
  },
  {
   "cell_type": "markdown",
   "id": "517d3e3f-a877-47f1-8bd3-cda3ff2e147a",
   "metadata": {},
   "source": [
    "## Gradient Boost"
   ]
  },
  {
   "cell_type": "code",
   "execution_count": null,
   "id": "3d02e8af-c84f-4c23-9d16-993527ef1c13",
   "metadata": {},
   "outputs": [],
   "source": [
    "from sklearn.ensemble import GradientBoostingClassifier\n",
    "gb_model = GradientBoostingClassifier(n_estimators=100, learning_rate=0.1, max_depth=3, random_state=42)\n",
    "gb_model.fit(X_train, y_train)"
   ]
  },
  {
   "cell_type": "code",
   "execution_count": null,
   "id": "626dff0b-a76a-44e3-9f80-48ff9d11eba8",
   "metadata": {},
   "outputs": [],
   "source": [
    "y_train_pred = gb_model.predict(X_train)\n",
    "y_test_pred = gb_model.predict(X_test)\n",
    "\n",
    "f1_train = f1_score(y_train, y_train_pred)\n",
    "f1_test = f1_score(y_test, y_test_pred)\n",
    "\n",
    "print(\"Train Accuracy Score:\", train_accuracy)\n",
    "print(\"Test Accuracy Score:\", test_accuracy)\n",
    "print(\"Train F1 Score:\", f1_train)\n",
    "print(\"Test F1 Score:\", f1_test)"
   ]
  }
 ],
 "metadata": {
  "kernelspec": {
   "display_name": "Python 3 (ipykernel)",
   "language": "python",
   "name": "python3"
  },
  "language_info": {
   "codemirror_mode": {
    "name": "ipython",
    "version": 3
   },
   "file_extension": ".py",
   "mimetype": "text/x-python",
   "name": "python",
   "nbconvert_exporter": "python",
   "pygments_lexer": "ipython3",
   "version": "3.12.4"
  }
 },
 "nbformat": 4,
 "nbformat_minor": 5
}
